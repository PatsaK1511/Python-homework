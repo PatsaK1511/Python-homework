{
 "cells": [
  {
   "cell_type": "raw",
   "id": "be282c2b-4c5d-4d0b-a1a1-7fba233263d9",
   "metadata": {},
   "source": [
    "นายพัสกร เงาศรี \n",
    "รหัสนักศึกษา 6812732116"
   ]
  }
 ],
 "metadata": {
  "kernelspec": {
   "display_name": "Python 3 (ipykernel)",
   "language": "python",
   "name": "python3"
  },
  "language_info": {
   "codemirror_mode": {
    "name": "ipython",
    "version": 3
   },
   "file_extension": ".py",
   "mimetype": "text/x-python",
   "name": "python",
   "nbconvert_exporter": "python",
   "pygments_lexer": "ipython3",
   "version": "3.13.5"
  }
 },
 "nbformat": 4,
 "nbformat_minor": 5
}
